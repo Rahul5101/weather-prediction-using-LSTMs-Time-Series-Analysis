{
 "cells": [
  {
   "cell_type": "code",
   "execution_count": 20,
   "id": "8995c9b8-6176-476e-808e-379cb8d5ce2f",
   "metadata": {},
   "outputs": [],
   "source": [
    "import tensorflow as tf\n",
    "import pandas as pd \n",
    "import os \n",
    "import numpy as np \n"
   ]
  },
  {
   "cell_type": "code",
   "execution_count": 21,
   "id": "c3b4e8fe-c9b6-40ad-bac4-9fcd35be7785",
   "metadata": {},
   "outputs": [],
   "source": [
    "zip_path = tf.keras.utils.get_file(\n",
    "    origin='https://storage.googleapis.com/tensorflow/tf-keras-datasets/climate_2009_2016.csv.zip',\n",
    "    fname='jena_climate_2009_2016.csv.zip',\n",
    "    extract=True)\n",
    "csv_path, _ = os.path.splitext(zip_path)\n"
   ]
  },
  {
   "cell_type": "code",
   "execution_count": 22,
   "id": "7dfd331f-fa6e-4611-b581-234a59d5c8bb",
   "metadata": {},
   "outputs": [],
   "source": [
    "df = pd.read_csv(csv_path)"
   ]
  },
  {
   "cell_type": "code",
   "execution_count": 23,
   "id": "10a24b6d-af91-4437-959e-e48d00bcfe49",
   "metadata": {},
   "outputs": [],
   "source": [
    "df.to_csv('climate_2009_2016.csv', index=False)"
   ]
  },
  {
   "cell_type": "code",
   "execution_count": null,
   "id": "dc588ac3-13fe-447a-9610-240602740626",
   "metadata": {},
   "outputs": [],
   "source": []
  },
  {
   "cell_type": "markdown",
   "id": "e19b8828-35c4-42a8-9026-c97604defefa",
   "metadata": {},
   "source": [
    "# THIS CODE IS FOR GENERATING THE DATASET FROM GOOGLEAPIS.COM"
   ]
  },
  {
   "cell_type": "code",
   "execution_count": null,
   "id": "7e9f9398-a7aa-47d1-9284-f88f4bd8696f",
   "metadata": {},
   "outputs": [],
   "source": []
  }
 ],
 "metadata": {
  "kernelspec": {
   "display_name": "Python 3 (ipykernel)",
   "language": "python",
   "name": "python3"
  },
  "language_info": {
   "codemirror_mode": {
    "name": "ipython",
    "version": 3
   },
   "file_extension": ".py",
   "mimetype": "text/x-python",
   "name": "python",
   "nbconvert_exporter": "python",
   "pygments_lexer": "ipython3",
   "version": "3.11.10"
  }
 },
 "nbformat": 4,
 "nbformat_minor": 5
}
